{
 "cells": [
  {
   "cell_type": "code",
   "execution_count": 8,
   "id": "deaf0473-1645-4a05-82e0-51819e77806e",
   "metadata": {},
   "outputs": [],
   "source": [
    "from tqdm import tqdm\n",
    "import time\n",
    "\n",
    "def mini_bar(curr, total, width=20):\n",
    "    p = curr / total\n",
    "    nfull = int(p * width)\n",
    "    rem = width - nfull - 1\n",
    "    frac_idx = int((p * width % 1) * 8)\n",
    "    bars = \"▏▎▍▌▋▊▉█\"\n",
    "    frac = bars[frac_idx] if 0 <= frac_idx < len(bars) else \"\"\n",
    "    return f\"{'█'*nfull}{frac}{' '*(rem if rem>0 else 0)} {curr}/{total}\""
   ]
  },
  {
   "cell_type": "code",
   "execution_count": 9,
   "id": "14ce503d-bfb2-4ad6-be0e-d06d71f2424b",
   "metadata": {},
   "outputs": [
    {
     "name": "stderr",
     "output_type": "stream",
     "text": [
      "Outer: 100%|██████████| 10/10 [00:20<00:00,  2.03s/it, Inner ████████████████████▏ 20/20]\n"
     ]
    }
   ],
   "source": [
    "outer = range(10)\n",
    "inner_total = 20\n",
    "\n",
    "with tqdm(total=len(outer), desc=\"Outer\") as pbar:\n",
    "    for o in outer:\n",
    "        for i in range(inner_total):\n",
    "            pbar.set_postfix_str(f\"Inner {mini_bar(i+1, inner_total)}\")\n",
    "            time.sleep(0.1)\n",
    "        pbar.update(1)"
   ]
  }
 ],
 "metadata": {
  "kernelspec": {
   "display_name": "Python 3 (ipykernel)",
   "language": "python",
   "name": "python3"
  },
  "language_info": {
   "codemirror_mode": {
    "name": "ipython",
    "version": 3
   },
   "file_extension": ".py",
   "mimetype": "text/x-python",
   "name": "python",
   "nbconvert_exporter": "python",
   "pygments_lexer": "ipython3",
   "version": "3.11.11"
  }
 },
 "nbformat": 4,
 "nbformat_minor": 5
}
